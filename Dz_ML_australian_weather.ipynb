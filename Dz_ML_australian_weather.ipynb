{
  "nbformat": 4,
  "nbformat_minor": 0,
  "metadata": {
    "colab": {
      "name": "Dz_ML_australian_weather.ipynb",
      "provenance": [],
      "collapsed_sections": []
    },
    "kernelspec": {
      "name": "python3",
      "display_name": "Python 3"
    },
    "language_info": {
      "name": "python"
    },
    "accelerator": "GPU"
  },
  "cells": [
    {
      "cell_type": "code",
      "metadata": {
        "id": "Z9_ocMHIMLT_"
      },
      "source": [
        "import numpy as np\n",
        "import pandas as pd\n",
        "from sklearn.metrics import accuracy_score\n",
        "from sklearn.model_selection import train_test_split\n",
        "from sklearn.linear_model import LinearRegression, Lasso, Ridge  \n",
        "from sklearn.model_selection import train_test_split"
      ],
      "execution_count": 5,
      "outputs": []
    },
    {
      "cell_type": "code",
      "metadata": {
        "colab": {
          "base_uri": "https://localhost:8080/",
          "height": 299
        },
        "id": "lyvLf4DTNDaX",
        "outputId": "8b5da89e-3ac8-4012-910d-f35c1236d54b"
      },
      "source": [
        "data = pd.read_csv('./weatherAUS.csv')\n",
        "data.head()"
      ],
      "execution_count": 6,
      "outputs": [
        {
          "output_type": "execute_result",
          "data": {
            "text/html": [
              "<div>\n",
              "<style scoped>\n",
              "    .dataframe tbody tr th:only-of-type {\n",
              "        vertical-align: middle;\n",
              "    }\n",
              "\n",
              "    .dataframe tbody tr th {\n",
              "        vertical-align: top;\n",
              "    }\n",
              "\n",
              "    .dataframe thead th {\n",
              "        text-align: right;\n",
              "    }\n",
              "</style>\n",
              "<table border=\"1\" class=\"dataframe\">\n",
              "  <thead>\n",
              "    <tr style=\"text-align: right;\">\n",
              "      <th></th>\n",
              "      <th>Date</th>\n",
              "      <th>Location</th>\n",
              "      <th>MinTemp</th>\n",
              "      <th>MaxTemp</th>\n",
              "      <th>Rainfall</th>\n",
              "      <th>Evaporation</th>\n",
              "      <th>Sunshine</th>\n",
              "      <th>WindGustDir</th>\n",
              "      <th>WindGustSpeed</th>\n",
              "      <th>WindDir9am</th>\n",
              "      <th>WindDir3pm</th>\n",
              "      <th>WindSpeed9am</th>\n",
              "      <th>WindSpeed3pm</th>\n",
              "      <th>Humidity9am</th>\n",
              "      <th>Humidity3pm</th>\n",
              "      <th>Pressure9am</th>\n",
              "      <th>Pressure3pm</th>\n",
              "      <th>Cloud9am</th>\n",
              "      <th>Cloud3pm</th>\n",
              "      <th>Temp9am</th>\n",
              "      <th>Temp3pm</th>\n",
              "      <th>RainToday</th>\n",
              "      <th>RainTomorrow</th>\n",
              "    </tr>\n",
              "  </thead>\n",
              "  <tbody>\n",
              "    <tr>\n",
              "      <th>0</th>\n",
              "      <td>2008-12-01</td>\n",
              "      <td>Albury</td>\n",
              "      <td>13.4</td>\n",
              "      <td>22.9</td>\n",
              "      <td>0.6</td>\n",
              "      <td>NaN</td>\n",
              "      <td>NaN</td>\n",
              "      <td>W</td>\n",
              "      <td>44.0</td>\n",
              "      <td>W</td>\n",
              "      <td>WNW</td>\n",
              "      <td>20.0</td>\n",
              "      <td>24.0</td>\n",
              "      <td>71.0</td>\n",
              "      <td>22.0</td>\n",
              "      <td>1007.7</td>\n",
              "      <td>1007.1</td>\n",
              "      <td>8.0</td>\n",
              "      <td>NaN</td>\n",
              "      <td>16.9</td>\n",
              "      <td>21.8</td>\n",
              "      <td>No</td>\n",
              "      <td>No</td>\n",
              "    </tr>\n",
              "    <tr>\n",
              "      <th>1</th>\n",
              "      <td>2008-12-02</td>\n",
              "      <td>Albury</td>\n",
              "      <td>7.4</td>\n",
              "      <td>25.1</td>\n",
              "      <td>0.0</td>\n",
              "      <td>NaN</td>\n",
              "      <td>NaN</td>\n",
              "      <td>WNW</td>\n",
              "      <td>44.0</td>\n",
              "      <td>NNW</td>\n",
              "      <td>WSW</td>\n",
              "      <td>4.0</td>\n",
              "      <td>22.0</td>\n",
              "      <td>44.0</td>\n",
              "      <td>25.0</td>\n",
              "      <td>1010.6</td>\n",
              "      <td>1007.8</td>\n",
              "      <td>NaN</td>\n",
              "      <td>NaN</td>\n",
              "      <td>17.2</td>\n",
              "      <td>24.3</td>\n",
              "      <td>No</td>\n",
              "      <td>No</td>\n",
              "    </tr>\n",
              "    <tr>\n",
              "      <th>2</th>\n",
              "      <td>2008-12-03</td>\n",
              "      <td>Albury</td>\n",
              "      <td>12.9</td>\n",
              "      <td>25.7</td>\n",
              "      <td>0.0</td>\n",
              "      <td>NaN</td>\n",
              "      <td>NaN</td>\n",
              "      <td>WSW</td>\n",
              "      <td>46.0</td>\n",
              "      <td>W</td>\n",
              "      <td>WSW</td>\n",
              "      <td>19.0</td>\n",
              "      <td>26.0</td>\n",
              "      <td>38.0</td>\n",
              "      <td>30.0</td>\n",
              "      <td>1007.6</td>\n",
              "      <td>1008.7</td>\n",
              "      <td>NaN</td>\n",
              "      <td>2.0</td>\n",
              "      <td>21.0</td>\n",
              "      <td>23.2</td>\n",
              "      <td>No</td>\n",
              "      <td>No</td>\n",
              "    </tr>\n",
              "    <tr>\n",
              "      <th>3</th>\n",
              "      <td>2008-12-04</td>\n",
              "      <td>Albury</td>\n",
              "      <td>9.2</td>\n",
              "      <td>28.0</td>\n",
              "      <td>0.0</td>\n",
              "      <td>NaN</td>\n",
              "      <td>NaN</td>\n",
              "      <td>NE</td>\n",
              "      <td>24.0</td>\n",
              "      <td>SE</td>\n",
              "      <td>E</td>\n",
              "      <td>11.0</td>\n",
              "      <td>9.0</td>\n",
              "      <td>45.0</td>\n",
              "      <td>16.0</td>\n",
              "      <td>1017.6</td>\n",
              "      <td>1012.8</td>\n",
              "      <td>NaN</td>\n",
              "      <td>NaN</td>\n",
              "      <td>18.1</td>\n",
              "      <td>26.5</td>\n",
              "      <td>No</td>\n",
              "      <td>No</td>\n",
              "    </tr>\n",
              "    <tr>\n",
              "      <th>4</th>\n",
              "      <td>2008-12-05</td>\n",
              "      <td>Albury</td>\n",
              "      <td>17.5</td>\n",
              "      <td>32.3</td>\n",
              "      <td>1.0</td>\n",
              "      <td>NaN</td>\n",
              "      <td>NaN</td>\n",
              "      <td>W</td>\n",
              "      <td>41.0</td>\n",
              "      <td>ENE</td>\n",
              "      <td>NW</td>\n",
              "      <td>7.0</td>\n",
              "      <td>20.0</td>\n",
              "      <td>82.0</td>\n",
              "      <td>33.0</td>\n",
              "      <td>1010.8</td>\n",
              "      <td>1006.0</td>\n",
              "      <td>7.0</td>\n",
              "      <td>8.0</td>\n",
              "      <td>17.8</td>\n",
              "      <td>29.7</td>\n",
              "      <td>No</td>\n",
              "      <td>No</td>\n",
              "    </tr>\n",
              "  </tbody>\n",
              "</table>\n",
              "</div>"
            ],
            "text/plain": [
              "         Date Location  MinTemp  ...  Temp3pm  RainToday  RainTomorrow\n",
              "0  2008-12-01   Albury     13.4  ...     21.8         No            No\n",
              "1  2008-12-02   Albury      7.4  ...     24.3         No            No\n",
              "2  2008-12-03   Albury     12.9  ...     23.2         No            No\n",
              "3  2008-12-04   Albury      9.2  ...     26.5         No            No\n",
              "4  2008-12-05   Albury     17.5  ...     29.7         No            No\n",
              "\n",
              "[5 rows x 23 columns]"
            ]
          },
          "metadata": {
            "tags": []
          },
          "execution_count": 6
        }
      ]
    },
    {
      "cell_type": "code",
      "metadata": {
        "id": "Y_Qh9_kmZRpS"
      },
      "source": [
        "data=data.fillna(data.mean())"
      ],
      "execution_count": 7,
      "outputs": []
    },
    {
      "cell_type": "code",
      "metadata": {
        "colab": {
          "base_uri": "https://localhost:8080/"
        },
        "id": "9tTloioNQ6Yh",
        "outputId": "206210be-cea5-497f-9582-1217a50b071e"
      },
      "source": [
        "# data2.interpolate(method ='linear', limit_direction ='forward') \n",
        "data.isnull().sum()"
      ],
      "execution_count": 8,
      "outputs": [
        {
          "output_type": "execute_result",
          "data": {
            "text/plain": [
              "Date                 0\n",
              "Location             0\n",
              "MinTemp              0\n",
              "MaxTemp              0\n",
              "Rainfall             0\n",
              "Evaporation          0\n",
              "Sunshine             0\n",
              "WindGustDir      10326\n",
              "WindGustSpeed        0\n",
              "WindDir9am       10566\n",
              "WindDir3pm        4228\n",
              "WindSpeed9am         0\n",
              "WindSpeed3pm         0\n",
              "Humidity9am          0\n",
              "Humidity3pm          0\n",
              "Pressure9am          0\n",
              "Pressure3pm          0\n",
              "Cloud9am             0\n",
              "Cloud3pm             0\n",
              "Temp9am              0\n",
              "Temp3pm              0\n",
              "RainToday         3261\n",
              "RainTomorrow      3267\n",
              "dtype: int64"
            ]
          },
          "metadata": {
            "tags": []
          },
          "execution_count": 8
        }
      ]
    },
    {
      "cell_type": "code",
      "metadata": {
        "id": "6iDAe0J1evcB"
      },
      "source": [
        "for i in ['WindGustDir','WindDir9am','WindDir3pm','RainToday','RainTomorrow']:\n",
        "  # print(data[[i]].value_counts().index[0][0])\n",
        "  data=data.fillna({i: data[[i]].value_counts().index[0][0]})"
      ],
      "execution_count": 9,
      "outputs": []
    },
    {
      "cell_type": "code",
      "metadata": {
        "id": "TWCM-CxOYcJR"
      },
      "source": [
        "# data['RainTomorrow_cat']=data['RainTomorrow'].astype('category').cat.codes"
      ],
      "execution_count": 10,
      "outputs": []
    },
    {
      "cell_type": "code",
      "metadata": {
        "id": "joLvPfP4knsx"
      },
      "source": [
        "for i in ['WindDir9am',\n",
        "  'Date',\n",
        "  'RainTomorrow',\n",
        " 'Location',\n",
        " 'WindDir3pm',\n",
        " 'RainToday',\n",
        " 'WindGustDir']:\n",
        "  data[i]=data[i].astype('category').cat.codes"
      ],
      "execution_count": 11,
      "outputs": []
    },
    {
      "cell_type": "code",
      "metadata": {
        "id": "b-q_MfnBlD1P"
      },
      "source": [
        "# data.head()"
      ],
      "execution_count": 12,
      "outputs": []
    },
    {
      "cell_type": "code",
      "metadata": {
        "id": "B0xHRfmeRQb3"
      },
      "source": [
        "num_cols =['MinTemp', 'MaxTemp', 'Rainfall', 'Evaporation',\n",
        "       'Sunshine', 'WindGustSpeed',\n",
        "       'WindSpeed9am', 'WindSpeed3pm', 'Humidity9am', 'Humidity3pm',\n",
        "       'Pressure9am', 'Pressure3pm', 'Cloud9am', 'Cloud3pm', 'Temp9am',\n",
        "       'Temp3pm']\n",
        "cat_cols=['WindDir9am',\n",
        " 'Date',\n",
        " 'Location',\n",
        " 'WindDir3pm',\n",
        " 'RainToday',\n",
        " 'WindGustDir']\n",
        "target_col='RainTomorrow'\n",
        "\n",
        "cols = num_cols + cat_cols + [target_col]"
      ],
      "execution_count": 17,
      "outputs": []
    },
    {
      "cell_type": "code",
      "metadata": {
        "id": "cWw_XiWVHm7D"
      },
      "source": [
        "# for col in cat_cols:\n",
        "#     print(f\"{col} DISTRIBUTION\")\n",
        "#     print(data[col].value_counts())\n",
        "#     print()"
      ],
      "execution_count": 14,
      "outputs": []
    },
    {
      "cell_type": "code",
      "metadata": {
        "colab": {
          "base_uri": "https://localhost:8080/"
        },
        "id": "nCPN5WgIPTWn",
        "outputId": "7c46415a-34d0-4e01-80ff-c6e9d45d0cb1"
      },
      "source": [
        "from sklearn.preprocessing import StandardScaler\n",
        "\n",
        "pca = StandardScaler()\n",
        "X = pca.fit_transform(data[num_cols + cat_cols])\n",
        "X"
      ],
      "execution_count": 15,
      "outputs": [
        {
          "output_type": "execute_result",
          "data": {
            "text/plain": [
              "array([[ 1.89446615e-01, -4.53363105e-02, -2.10071794e-01, ...,\n",
              "         1.36645776e+00, -5.29795450e-01,  1.04522847e+00],\n",
              "       [-7.53100728e-01,  2.65043084e-01, -2.81649838e-01, ...,\n",
              "         1.58681337e+00, -5.29795450e-01,  1.25826214e+00],\n",
              "       [ 1.10901003e-01,  3.49692009e-01, -2.81649838e-01, ...,\n",
              "         1.58681337e+00, -5.29795450e-01,  1.47129581e+00],\n",
              "       ...,\n",
              "       [-1.06728318e+00,  5.18989861e-01, -2.81649838e-01, ...,\n",
              "         1.36645776e+00, -5.29795450e-01, -1.08510821e+00],\n",
              "       [-6.90264238e-01,  5.33098015e-01, -2.81649838e-01, ...,\n",
              "        -1.05745394e+00, -5.29795450e-01,  1.93093799e-01],\n",
              "       [ 4.25083451e-01,  2.10513377e-14, -2.81649838e-01, ...,\n",
              "        -1.27780955e+00, -5.29795450e-01,  1.04522847e+00]])"
            ]
          },
          "metadata": {
            "tags": []
          },
          "execution_count": 15
        }
      ]
    },
    {
      "cell_type": "code",
      "metadata": {
        "id": "jFVnFAITxOu0",
        "colab": {
          "base_uri": "https://localhost:8080/"
        },
        "outputId": "7addeca5-d7fe-49f1-e096-af3016a617a7"
      },
      "source": [
        "X_train, X_test, y_train, y_test = train_test_split(X,data[target_col], test_size=0.25,shuffle=False)\n",
        "y_test"
      ],
      "execution_count": 18,
      "outputs": [
        {
          "output_type": "execute_result",
          "data": {
            "text/plain": [
              "109095    1\n",
              "109096    0\n",
              "109097    0\n",
              "109098    1\n",
              "109099    1\n",
              "         ..\n",
              "145455    0\n",
              "145456    0\n",
              "145457    0\n",
              "145458    0\n",
              "145459    0\n",
              "Name: RainTomorrow, Length: 36365, dtype: int8"
            ]
          },
          "metadata": {
            "tags": []
          },
          "execution_count": 18
        }
      ]
    },
    {
      "cell_type": "code",
      "metadata": {
        "id": "9_DBbBBHyF1O"
      },
      "source": [
        "from sklearn.linear_model import LogisticRegression\n",
        "from sklearn.neighbors import KNeighborsClassifier\n",
        "from sklearn.metrics import r2_score, mean_squared_error, make_scorer\n",
        "\n",
        "def print_metrics(y_preds, y):\n",
        "    print(f'R^2: {r2_score(y_preds, y)}')\n",
        "    print(f'MSE: {mean_squared_error(y_preds, y)}')"
      ],
      "execution_count": 23,
      "outputs": []
    },
    {
      "cell_type": "code",
      "metadata": {
        "id": "T705ulBQarju"
      },
      "source": [
        "from sklearn.model_selection import GridSearchCV\n",
        "from sklearn.naive_bayes import GaussianNB"
      ],
      "execution_count": 21,
      "outputs": []
    },
    {
      "cell_type": "code",
      "metadata": {
        "id": "Tuxn3kqaatjX",
        "colab": {
          "base_uri": "https://localhost:8080/"
        },
        "outputId": "756751cc-1bc5-473d-8a06-286db3696787"
      },
      "source": [
        "gbr_grid_search = GridSearchCV(KNeighborsClassifier(), \n",
        "                               [{'n_neighbors': [1, 2, 3, 4, 5]}],\n",
        "                               error_score=make_scorer(mean_squared_error))\n",
        "gbr_grid_search.fit(X_train, y_train)"
      ],
      "execution_count": 28,
      "outputs": [
        {
          "output_type": "execute_result",
          "data": {
            "text/plain": [
              "GridSearchCV(cv=None, error_score=make_scorer(mean_squared_error),\n",
              "             estimator=KNeighborsClassifier(algorithm='auto', leaf_size=30,\n",
              "                                            metric='minkowski',\n",
              "                                            metric_params=None, n_jobs=None,\n",
              "                                            n_neighbors=5, p=2,\n",
              "                                            weights='uniform'),\n",
              "             iid='deprecated', n_jobs=None,\n",
              "             param_grid=[{'n_neighbors': [1, 2, 3, 4, 5]}],\n",
              "             pre_dispatch='2*n_jobs', refit=True, return_train_score=False,\n",
              "             scoring=None, verbose=0)"
            ]
          },
          "metadata": {
            "tags": []
          },
          "execution_count": 28
        }
      ]
    },
    {
      "cell_type": "code",
      "metadata": {
        "id": "9gF0rkm0avi7",
        "colab": {
          "base_uri": "https://localhost:8080/"
        },
        "outputId": "ba358e63-c936-455e-efb5-5302b3edb2b4"
      },
      "source": [
        "print(gbr_grid_search.best_params_)\n",
        "print(gbr_grid_search.best_score_)\n",
        "print(gbr_grid_search.best_estimator_)"
      ],
      "execution_count": 29,
      "outputs": [
        {
          "output_type": "stream",
          "text": [
            "{'n_neighbors': 5}\n",
            "0.816215225262386\n",
            "KNeighborsClassifier(algorithm='auto', leaf_size=30, metric='minkowski',\n",
            "                     metric_params=None, n_jobs=None, n_neighbors=5, p=2,\n",
            "                     weights='uniform')\n"
          ],
          "name": "stdout"
        }
      ]
    },
    {
      "cell_type": "code",
      "metadata": {
        "id": "390aXRMQqPxm",
        "colab": {
          "base_uri": "https://localhost:8080/"
        },
        "outputId": "a87d1549-80ac-4508-fdc5-456afc798a01"
      },
      "source": [
        "gbr_grid_search = GridSearchCV(LogisticRegression(), \n",
        "                               {'C': np.arange(1,11)},\n",
        "                               error_score=make_scorer(mean_squared_error),\n",
        "                               verbose=False)\n",
        "gbr_grid_search.fit(X_train, y_train)\n"
      ],
      "execution_count": 24,
      "outputs": [
        {
          "output_type": "execute_result",
          "data": {
            "text/plain": [
              "GridSearchCV(cv=None, error_score=make_scorer(mean_squared_error),\n",
              "             estimator=LogisticRegression(C=1.0, class_weight=None, dual=False,\n",
              "                                          fit_intercept=True,\n",
              "                                          intercept_scaling=1, l1_ratio=None,\n",
              "                                          max_iter=100, multi_class='auto',\n",
              "                                          n_jobs=None, penalty='l2',\n",
              "                                          random_state=None, solver='lbfgs',\n",
              "                                          tol=0.0001, verbose=0,\n",
              "                                          warm_start=False),\n",
              "             iid='deprecated', n_jobs=None,\n",
              "             param_grid={'C': array([ 1,  2,  3,  4,  5,  6,  7,  8,  9, 10])},\n",
              "             pre_dispatch='2*n_jobs', refit=True, return_train_score=False,\n",
              "             scoring=None, verbose=False)"
            ]
          },
          "metadata": {
            "tags": []
          },
          "execution_count": 24
        }
      ]
    },
    {
      "cell_type": "code",
      "metadata": {
        "colab": {
          "base_uri": "https://localhost:8080/"
        },
        "id": "GNPRtp3woZMw",
        "outputId": "6d60b9e7-5204-45c2-f78a-07a3a21aaedf"
      },
      "source": [
        "print(gbr_grid_search.best_params_)\n",
        "print(gbr_grid_search.best_score_)\n",
        "print(gbr_grid_search.best_estimator_)"
      ],
      "execution_count": 25,
      "outputs": [
        {
          "output_type": "stream",
          "text": [
            "{'C': 1}\n",
            "0.8375544250423943\n",
            "LogisticRegression(C=1, class_weight=None, dual=False, fit_intercept=True,\n",
            "                   intercept_scaling=1, l1_ratio=None, max_iter=100,\n",
            "                   multi_class='auto', n_jobs=None, penalty='l2',\n",
            "                   random_state=None, solver='lbfgs', tol=0.0001, verbose=0,\n",
            "                   warm_start=False)\n"
          ],
          "name": "stdout"
        }
      ]
    },
    {
      "cell_type": "code",
      "metadata": {
        "colab": {
          "base_uri": "https://localhost:8080/"
        },
        "id": "cOT4iR5Aoac_",
        "outputId": "326a40bb-ad63-484c-d34a-4a07d45f98d7"
      },
      "source": [
        "gbr_grid_search = GridSearchCV(GaussianNB(), \n",
        "                               {'var_smoothing': np.arange(1e-25,1e-15,1)},\n",
        "                               error_score=make_scorer(mean_squared_error),\n",
        "                               verbose=False)\n",
        "gbr_grid_search.fit(X_train, y_train)"
      ],
      "execution_count": 26,
      "outputs": [
        {
          "output_type": "execute_result",
          "data": {
            "text/plain": [
              "GridSearchCV(cv=None, error_score=make_scorer(mean_squared_error),\n",
              "             estimator=GaussianNB(priors=None, var_smoothing=1e-09),\n",
              "             iid='deprecated', n_jobs=None,\n",
              "             param_grid={'var_smoothing': array([1.e-25])},\n",
              "             pre_dispatch='2*n_jobs', refit=True, return_train_score=False,\n",
              "             scoring=None, verbose=False)"
            ]
          },
          "metadata": {
            "tags": []
          },
          "execution_count": 26
        }
      ]
    },
    {
      "cell_type": "code",
      "metadata": {
        "colab": {
          "base_uri": "https://localhost:8080/"
        },
        "id": "9a6bySn3pMZL",
        "outputId": "24e3b7e0-09cc-486a-c0fa-5f6003e7a0dd"
      },
      "source": [
        "print(gbr_grid_search.best_params_)\n",
        "print(gbr_grid_search.best_score_)\n",
        "print(gbr_grid_search.best_estimator_)"
      ],
      "execution_count": 27,
      "outputs": [
        {
          "output_type": "stream",
          "text": [
            "{'var_smoothing': 1e-25}\n",
            "0.8002841560108163\n",
            "GaussianNB(priors=None, var_smoothing=1e-25)\n"
          ],
          "name": "stdout"
        }
      ]
    },
    {
      "cell_type": "code",
      "metadata": {
        "id": "U04bAAJ1-W85"
      },
      "source": [
        "# class NaiveBayesClassifier(object):\n",
        "#     def init(self):  \n",
        "#         self.__class_freq = defaultdict(lambda:0)\n",
        "#         self.__feat_freq = defaultdict(lambda:0)\n",
        "\n",
        "\n",
        "#     def fit(self, X, y):\n",
        "#         # calculate classes and features frequencies\n",
        "#         for feature, label in zip(X, y):\n",
        "#             self.__class_freq[label] += 1\n",
        "#             for value in feature:\n",
        "#                 self.__feat_freq[(value, label)] += 1\n",
        "\n",
        "#         # normalizate values\n",
        "#         num_samples = len(X)\n",
        "#         for k in self.__class_freq:\n",
        "#             self.__class_freq[k] /= num_samples\n",
        "\n",
        "#         for value, label in self.__feat_freq:\n",
        "#             self.__feat_freq[(value, label)] /= self.__class_freq[label]\n",
        "\n",
        "#         return self"
      ],
      "execution_count": null,
      "outputs": []
    },
    {
      "cell_type": "code",
      "metadata": {
        "id": "NrcF2uBR-aSJ"
      },
      "source": [
        "# # def predict(self, X):\n",
        "#     # return argmin of classes \n",
        "#     return min(self.__class_freq.keys(), \n",
        "#                key=lambda c : self.__calculate_class_freq(X, c)) \n",
        " \n",
        "# def __calculate_class_freq(self, X, clss):\n",
        "#     # calculate frequence for current class\n",
        "#     freq = - np.log(self.__class_freq[clss])\n",
        "   \n",
        "#     for feat in X: \n",
        "#         freq += - np.log(self.__feat_freq.get((feat, clss), 10 ** (-7)))\n",
        "#     return freq"
      ],
      "execution_count": null,
      "outputs": []
    },
    {
      "cell_type": "code",
      "metadata": {
        "id": "HtIVjTiV-hXA"
      },
      "source": [
        "# model = NaiveBayesClassifier().fit(X_train, y_train)\n",
        "\n",
        "# predictions = [model.predict(x) for x in X_test]\n",
        "# print(accuracy_score(predictions, y_test))\n"
      ],
      "execution_count": null,
      "outputs": []
    },
    {
      "cell_type": "code",
      "metadata": {
        "id": "MomDJy_WxeIs"
      },
      "source": [
        ""
      ],
      "execution_count": null,
      "outputs": []
    }
  ]
}