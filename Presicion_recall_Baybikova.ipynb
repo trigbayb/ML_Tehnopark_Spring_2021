{
  "nbformat": 4,
  "nbformat_minor": 0,
  "metadata": {
    "colab": {
      "name": "Presicion_recall_Baybikova.ipynb",
      "provenance": [],
      "collapsed_sections": []
    },
    "kernelspec": {
      "name": "python3",
      "display_name": "Python 3"
    },
    "language_info": {
      "name": "python"
    }
  },
  "cells": [
    {
      "cell_type": "code",
      "metadata": {
        "id": "KuOxIbjYok_H"
      },
      "source": [
        "import numpy as np\n",
        "from sklearn.metrics import confusion_matrix as cm"
      ],
      "execution_count": 2,
      "outputs": []
    },
    {
      "cell_type": "code",
      "metadata": {
        "id": "8VofKXDuHuAL"
      },
      "source": [
        "file = np.loadtxt('HW2_labels.txt',  delimiter=',')\n",
        "y_predict, y_true = file[:, :2], file[:, -1]"
      ],
      "execution_count": null,
      "outputs": []
    },
    {
      "cell_type": "code",
      "metadata": {
        "id": "A0buxj-nu8qD"
      },
      "source": [
        "def srez(x, percent):\n",
        "  return int(x.shape[0]*percent)\n",
        "\n",
        "def decrease_dim(massiv):\n",
        "    return np.array([np.argmax(massiv[i, :]) for i in range(massiv.shape[0])])\n",
        "\n",
        "def accuracy_score(y_true, y_predict, percent=0.5):\n",
        "    decreazed=decrease_dim(y_predict[:srez(y_predict,percent),:])\n",
        "    cm_result = cm(y_true[:srez(y_true,percent)], decreazed)\n",
        "    TP=np.diagonal(cm_result).sum()\n",
        "    result = TP / cm_result.sum()\n",
        "    return result\n",
        "\n",
        "\n",
        "def precision_score(y_true, y_predict, percent=0.5):\n",
        "    decreazed=decrease_dim(y_predict[:srez(y_predict,percent),:])\n",
        "    cm_result = cm(y_true[:srez(y_true,percent)], decreazed)\n",
        "    result = np.array([(cm_result[elem, elem] /cm_result[:, elem].sum()) for elem in range(y_predict.shape[1])])\n",
        "    return result\n",
        "\n",
        "\n",
        "def recall_score(y_true, y_predict, percent=0.5):\n",
        "    decreazed=decrease_dim(y_predict[:srez(y_predict,percent),:])\n",
        "    cm_result = cm(y_true[:srez(y_true,percent)], decreazed)\n",
        "    result = np.array([(cm_result[elem, elem] /cm_result[elem, :].sum()) for elem in range(y_predict.shape[1])])\n",
        "    return result\n",
        "\n",
        "\n",
        "def f1_score(y_true, y_predict, percent=0.5):\n",
        "    precision = precision_score(y_true, y_predict, percent)\n",
        "    recall = recall_score(y_true, y_predict, percent)\n",
        "    return 2 * precision * recall / (precision + recall)\n",
        "\n",
        "\n",
        "def lift_score(y_true, y_predict, percent=0.5):\n",
        "    decreazed=decrease_dim(y_predict[:srez(y_predict,percent),:])\n",
        "    cm_result = cm(y_true[:srez(y_true,percent)], decreazed)\n",
        "    precision = precision_score(y_true, y_predict, percent)\n",
        "    TP = np.diagonal(cm_result)\n",
        "    FN = np.array([((np.delete(np.delete(cm_result, elem, axis=0), elem, axis=1)).sum() - \n",
        "                     (np.delete(np.delete(cm_result, elem, axis=0), elem, axis=1)).diagonal().sum()) \n",
        "                    for elem in range(y_predict.shape[1])])\n",
        "    result = precision * srez(y_true,percent) / (TP + FN)\n",
        "    return result"
      ],
      "execution_count": 3,
      "outputs": []
    },
    {
      "cell_type": "code",
      "metadata": {
        "id": "vQYU147Tu3-I"
      },
      "source": [
        "# def accuracy_score(y_true, y_predict, percent=0.5):\n",
        "#     decreazed=decrease_dim(y_predict[:srez(y_predict,percent),:])\n",
        "#     cm_result = cm(y_true[:srez(y_true,percent)], decreazed)\n",
        "#     result = np.diagonal(cm_result).sum() / cm_result.sum()\n",
        "#     return result"
      ],
      "execution_count": 108,
      "outputs": []
    },
    {
      "cell_type": "code",
      "metadata": {
        "colab": {
          "base_uri": "https://localhost:8080/"
        },
        "id": "EUxW4QvhH6D2",
        "outputId": "3605041a-fd7e-4bba-ba79-ec79fe45e2c7"
      },
      "source": [
        "accuracy_score(y_true, y_predict)"
      ],
      "execution_count": 112,
      "outputs": [
        {
          "output_type": "execute_result",
          "data": {
            "text/plain": [
              "1.0"
            ]
          },
          "metadata": {
            "tags": []
          },
          "execution_count": 112
        }
      ]
    },
    {
      "cell_type": "code",
      "metadata": {
        "colab": {
          "base_uri": "https://localhost:8080/"
        },
        "id": "PYiVNOOnIJbF",
        "outputId": "b690a299-3603-48d1-de29-2464d1cf8a01"
      },
      "source": [
        "f1_score(y_true, y_predict)"
      ],
      "execution_count": 113,
      "outputs": [
        {
          "output_type": "execute_result",
          "data": {
            "text/plain": [
              "array([1., 1.])"
            ]
          },
          "metadata": {
            "tags": []
          },
          "execution_count": 113
        }
      ]
    },
    {
      "cell_type": "code",
      "metadata": {
        "colab": {
          "base_uri": "https://localhost:8080/"
        },
        "id": "8mSkN2rgJjjP",
        "outputId": "19fa01f4-9706-47ce-a392-334416853c52"
      },
      "source": [
        "lift_score(y_true, y_predict)"
      ],
      "execution_count": 114,
      "outputs": [
        {
          "output_type": "execute_result",
          "data": {
            "text/plain": [
              "array([1.35379061, 3.82653061])"
            ]
          },
          "metadata": {
            "tags": []
          },
          "execution_count": 114
        }
      ]
    },
    {
      "cell_type": "code",
      "metadata": {
        "id": "gX5pxk1JJmJw"
      },
      "source": [
        ""
      ],
      "execution_count": null,
      "outputs": []
    }
  ]
}